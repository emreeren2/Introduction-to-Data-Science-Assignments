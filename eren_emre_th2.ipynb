{
  "nbformat": 4,
  "nbformat_minor": 0,
  "metadata": {
    "colab": {
      "name": "eren_emre_th2",
      "provenance": [],
      "collapsed_sections": []
    },
    "kernelspec": {
      "name": "python3",
      "display_name": "Python 3"
    }
  },
  "cells": [
    {
      "cell_type": "markdown",
      "metadata": {
        "id": "SqrxFTQCWpwP",
        "colab_type": "text"
      },
      "source": [
        "## Take-Home Exam 2 : Statistics & Hypothesis Testing\n",
        "\n",
        "*In this take-home exam, you are going to study hypothesis testing and related statistics concepts in more detail.*\n",
        "\n",
        "**Submission Instructions**\n",
        "\n",
        "---\n",
        "Copy this assignment to your Drive. <font color = 'red'> `File` --> `Save a copy in Drive`</font>. Rename it as <font color = 'green'>`Lastname_Firstname_th2`</font>.\n",
        "\n",
        "Write your solutions in the cells  marked <font color = 'green'>`# your code`</font>.\n",
        "\n",
        "When you're done please submit your solutions as an <font color=\"red\">`.ipynb`</font> file. To do so:\n",
        "\n",
        "\n",
        "1.  Click on <font color=\"red\">`File`</font>  at the top left on the Colab screen, then click on <font color = 'red'>`Download .ipynb`</font>.\n",
        "2.   Then submit the <font color=\"red\">`.ipynb`</font> version of your work on SUCourse.\n",
        "\n",
        "\n",
        "For any question, you may send an email to the TAs and LAs.\n",
        "\n",
        "---"
      ]
    },
    {
      "cell_type": "code",
      "metadata": {
        "id": "mwtNu_WbXn5M",
        "colab_type": "code",
        "outputId": "6a8e1d79-c91f-4837-edfc-e6d02f3e10a3",
        "colab": {
          "base_uri": "https://localhost:8080/",
          "height": 33
        }
      },
      "source": [
        "from google.colab import drive\n",
        "drive.mount(\"/content/drive\", force_remount=True)\n",
        "\n",
        "path_prefix = \"/content/drive/My Drive\""
      ],
      "execution_count": 376,
      "outputs": [
        {
          "output_type": "stream",
          "text": [
            "Mounted at /content/drive\n"
          ],
          "name": "stdout"
        }
      ]
    },
    {
      "cell_type": "code",
      "metadata": {
        "id": "HGEQHR7yXsHk",
        "colab_type": "code",
        "colab": {}
      },
      "source": [
        "import pandas as pd\n",
        "import numpy as np\n",
        "import matplotlib.pyplot as plt\n",
        "from os.path import join\n",
        "\n",
        "%matplotlib inline"
      ],
      "execution_count": 0,
      "outputs": []
    },
    {
      "cell_type": "markdown",
      "metadata": {
        "id": "PKSnYTo-WQmb",
        "colab_type": "text"
      },
      "source": [
        "### Question 1: t-Distributions & t-Test"
      ]
    },
    {
      "cell_type": "markdown",
      "metadata": {
        "id": "yuaxzQa7aF84",
        "colab_type": "text"
      },
      "source": [
        "> The **t-distribution** (aka, Student’s t-distribution) is a probability distribution that is used to estimate population parameters when the sample size is small and/or when the population variance is unknown.\n",
        "\n",
        "> **Degrees of Freedom**: There are actually many different t-distributions. The particular form of the t-distribution is determined by its degrees of freedom. The degrees of freedom refers to the number of independent observations in a set of data. When estimating a mean score or a proportion from a single sample, the number of independent observations is equal to the sample size minus one. Hence, the distribution of the t-statistic from samples of size 8 would be described by a t-distribution having 8 - 1 or 7 degrees of freedom.\n",
        "\n",
        "For further information regarding t-distribution you can check the [Wikipedia](https://en.wikipedia.org/wiki/Student%27s_t-distribution) and [StatTrek](https://stattrek.com/probability-distributions/t-distribution.aspx).\n",
        "\n",
        "Now, below **you have a scenario where a t-distribution is needed to be utilized for hypothesis testing**.\n",
        "\n",
        "---\n",
        "\n",
        "**Question Scenario** : An iron company has a sample of 35 irons for which the monthly electric consumption is measured. The values can be observed in the list variable named `sample_values` below. In addition, engineers of the company initially had claims for **average monthly consumption of all irons to be 84 kWh**. However, the company finds the resulting consumption values **exceeding** the given claim. As a result, the company wants to know if the sampled 35 irons have a greater average monthly consumption than the estimated mean, 84 kWh.\n",
        "\n",
        "---"
      ]
    },
    {
      "cell_type": "code",
      "metadata": {
        "id": "QQEkxaT10WpU",
        "colab_type": "code",
        "colab": {}
      },
      "source": [
        "sample_values = [\n",
        "  87, 83, 84, 86, 85, 89, 81, 89, 81, 89, 87, 82, 88, 85, 87, 84, 87, 83,\n",
        "  81, 82, 80, 89, 87, 82, 84, 81, 86, 81, 87, 89, 83, 80, 89, 85, 80\n",
        "]"
      ],
      "execution_count": 0,
      "outputs": []
    },
    {
      "cell_type": "markdown",
      "metadata": {
        "id": "eX9QIIg1aOVn",
        "colab_type": "text"
      },
      "source": [
        "#### Task 1: Null and Alternative Hypotheses\n",
        "\n",
        "From the given question above, please fill the null and alternative hypotheses definitions below."
      ]
    },
    {
      "cell_type": "markdown",
      "metadata": {
        "id": "YwFMMJ4m1Wmm",
        "colab_type": "text"
      },
      "source": [
        "*italicized text*<font color=\"blue\">[Double click to fill in the blanks]</font>\n",
        "\n",
        "$ H_0: $ u = 84 kWh\n",
        "\n",
        "$ H_1: $ u > 84 kWh"
      ]
    },
    {
      "cell_type": "markdown",
      "metadata": {
        "id": "cBuKTOGnbAK2",
        "colab_type": "text"
      },
      "source": [
        "#### Task 2: Type of the Hypothesis Testing\n",
        "Are we conducting a left-tailed or a right-tailed hypothesis testing? Why?"
      ]
    },
    {
      "cell_type": "markdown",
      "metadata": {
        "id": "_n-H3qgAba8I",
        "colab_type": "text"
      },
      "source": [
        "right-tailed hypothesis testing, because our hypothesis statement is u > 84 which contains a greater than symbol. This means that we are interested in right side of the graph. <font color=\"blue\">[Double click to type your answer]</font>"
      ]
    },
    {
      "cell_type": "markdown",
      "metadata": {
        "id": "UlQIgj9ObiGy",
        "colab_type": "text"
      },
      "source": [
        "#### Task 3: t-Statistic\n",
        "\n",
        "Since the sample we have is small and lacking inforformation regarding the actual population, we are going to utilize the t-distribution to model our data. In order to locate the sample mean, we'll deploy t-scores. You may think of it as a z-score, but defined for a t-distribution.\n",
        "\n",
        "The formula for calculating the t-score is given below;\n",
        "\n",
        "![](https://wikimedia.org/api/rest_v1/media/math/render/svg/fefcbd88b2358228836cc4dc9e1a84f99765715d)\n",
        "\n",
        "where \n",
        "  - $\\bar{X}$ is sample mean,\n",
        "  - $ \\mu$ is the mean to be tested,\n",
        "  - $S$ is the sample standard deviation,\n",
        "  - $n$ is the sample size,\n",
        "  - also the degree of freedom is $n-1$\n",
        "\n",
        "Now, calculate the t value (t-test statistic) for the question.\n",
        "\n",
        "*hint: You also need to calculate some of the metrics above.*"
      ]
    },
    {
      "cell_type": "code",
      "metadata": {
        "id": "dTVhf_Operwo",
        "colab_type": "code",
        "outputId": "57047f1b-ff2f-4e75-cfc4-83b1f830a364",
        "colab": {
          "base_uri": "https://localhost:8080/",
          "height": 33
        }
      },
      "source": [
        "# your code\n",
        "import statistics\n",
        "\n",
        "X = statistics.mean(sample_values) # SAMPLE MEAN\n",
        "u = 84 # 84000 watt / MEAN\n",
        "S = 720 # hours in a month / SAMPLE STANDARD DEVIATION\n",
        "n = 35 # SAMPLE SIZE\n",
        "dof = n-1 # DEGREE OF FREEDOM\n",
        "\n",
        "t_stat = (X-u)/(S/(n**1/2))\n",
        "\n",
        "print(t_stat)\n"
      ],
      "execution_count": 379,
      "outputs": [
        {
          "output_type": "stream",
          "text": [
            "0.015972222222222252\n"
          ],
          "name": "stdout"
        }
      ]
    },
    {
      "cell_type": "markdown",
      "metadata": {
        "id": "RlKeaAjagkZA",
        "colab_type": "text"
      },
      "source": [
        "#### Task 4: t-Distribution\n",
        "\n",
        "In the rats' mean response time experiment, our alternative hypothesis stated that the sample's mean response time is less than the mean response time of the population. To this end, we obtained the corresponding z-score of the sample mean, our test statistic, and showed it on the population distribution. Then, calculated the required probability accordingly. \n",
        "\n",
        "In the figure below, we have a standard normal distribution and a z-score of -1.96. The blue shaded area represents a left-tailed test.\n",
        "\n",
        "![](https://mat117.wisconsin.edu/wp-content/uploads/2014/12/section3-21.png)\n",
        "\n",
        "Now using the t-distribution option from `scipy.stats`, plot a 0-centric t-distribution with the correct degrees of freedom and shade the area of interest in the question scenario for the appropriate test type.\n",
        "\n",
        "*p.s. You may check the documentation for numpy implemantation of t-distribution from this [link](https://docs.scipy.org/doc/scipy/reference/generated/scipy.stats.t.html#scipy.stats.t)*"
      ]
    },
    {
      "cell_type": "code",
      "metadata": {
        "id": "NLsGTfuMXmmi",
        "colab_type": "code",
        "outputId": "032c65e2-19b5-4e2f-9415-c80352c20bb5",
        "colab": {
          "base_uri": "https://localhost:8080/",
          "height": 278
        }
      },
      "source": [
        "from scipy.stats import t\n",
        "from scipy import stats\n",
        "\n",
        "offset = 4*S\n",
        "a = np.linspace(X - offset, X + offset, n)\n",
        "b = stats.norm.pdf(a,X,S)\n",
        "plt.plot(a,b)\n",
        "\n",
        "plt.grid()\n",
        "plt.xlabel('x')\n",
        "plt.ylabel('y')\n",
        "plt.ylabel('normal dist.')\n",
        "plt.fill_between(a,b,alpha = 0.4, color = 'b')\n",
        "plt.axvline(S - t_stat*S, ymax = 0.2, color = \"red\")\n",
        "plt.show()\n"
      ],
      "execution_count": 380,
      "outputs": [
        {
          "output_type": "display_data",
          "data": {
            "image/png": "[encoded data removed]",
            "text/plain": [
              "<Figure size 432x288 with 1 Axes>"
            ]
          },
          "metadata": {
            "tags": [],
            "needs_background": "light"
          }
        }
      ]
    },
    {
      "cell_type": "markdown",
      "metadata": {
        "id": "vIA6JnWRhVBw",
        "colab_type": "text"
      },
      "source": [
        "#### Task 5: p-value and Test Result\n",
        "\n",
        "By using the appropriate method of testing from `scipy.stats` conduct the hypothesis test needed for the question given. Then, by checking the resulting p-value, evaluate the scenario (accept or reject the null hypothesis? why?) with significance level ($\\alpha$) set to 0.05. \n",
        "\n",
        "*p.s. By default, scipy's hypothesis testing functions perform two-tailed tests. In other words, the resulting p-values are calculated for the  two-tailed scenario. You should find a way to convert them to one-tail.*"
      ]
    },
    {
      "cell_type": "code",
      "metadata": {
        "id": "GPyNpJDXiZLa",
        "colab_type": "code",
        "outputId": "ad01fd80-5ecf-45df-d66d-d940e0424365",
        "colab": {
          "base_uri": "https://localhost:8080/",
          "height": 33
        }
      },
      "source": [
        "\n",
        "# calculating the probability\n",
        "# 1-cdf to obtain the area left\n",
        "prob = 1 - stats.norm.cdf(t_stat)\n",
        "\n",
        "print(f\"probability: {prob}\")\n"
      ],
      "execution_count": 381,
      "outputs": [
        {
          "output_type": "stream",
          "text": [
            "probability: 0.4936282761618175\n"
          ],
          "name": "stdout"
        }
      ]
    },
    {
      "cell_type": "markdown",
      "metadata": {
        "id": "o02Zvgga_hKI",
        "colab_type": "text"
      },
      "source": [
        "According to my observation, probability of finding iron that consumption is bigger or equal than 84 is bigger than finding iron that consumption is less than 84.     \n",
        " <font color=\"blue\">[Double click to type your decision and its explanation]</\n",
        " \n",
        "\n",
        "font>"
      ]
    },
    {
      "cell_type": "markdown",
      "metadata": {
        "id": "RcG1zCLGW02N",
        "colab_type": "text"
      },
      "source": [
        "### Question 2: Two-tailed t-Test"
      ]
    },
    {
      "cell_type": "markdown",
      "metadata": {
        "id": "dWn5t6Yp7TDF",
        "colab_type": "text"
      },
      "source": [
        "For the second question, you will utilize the *TMDB 5000 Movie Dataset* from [Kaggle](https://www.kaggle.com/tmdb/tmdb-movie-metadata#tmdb_5000_movies.csv). For the dataset, the csv file called `tmdb_5000_movies.csv` has already been shared with you.\n",
        "\n",
        "Our objective is to check if there is any statistically significant difference between the IMBD ratings (named as `\"vote_average\"` in the dataset) of USA and non-USA made movies. Below, you may find the hypothesis setting.\n",
        "\n",
        "$\\mu_{us}$: avg. IMDB rating of US made movies  \n",
        "$\\mu_{non-us}$: avg. IMDB rating of non-US made movies\n",
        "\n",
        "$H_0: \\mu_{us} = \\mu_{non-us}$  \n",
        "$H_A: \\mu_{us} \\neq \\mu_{non-us}$\n",
        "\n",
        "#### Task 1: Preprocessing\n",
        "\n",
        "As you can also check, some of the columns in the dataset need preprocessing. In this task, you need to write a function to be applied to the dataframe using the information in the column named `production_countries`. The function should be used for discriminating movies produced in the United States and movies produced in other countries. If a movie has multiple countries for production where United States is one of them, you should consider it as United States made as well. Apply your function to create a new column, named `\"made_where\"`. Lastly, show the top 3 rows of the resulting dataframe. "
      ]
    },
    {
      "cell_type": "code",
      "metadata": {
        "id": "yqGcNEBcBB-u",
        "colab_type": "code",
        "outputId": "0bf2d51c-1b9f-4543-8bc0-d2b353ae2ddb",
        "colab": {
          "base_uri": "https://localhost:8080/",
          "height": 650
        }
      },
      "source": [
        "df = pd.read_csv(join(path_prefix, \"tmdb_5000_movies.csv\"))\n",
        "df.head()"
      ],
      "execution_count": 382,
      "outputs": [
        {
          "output_type": "execute_result",
          "data": {
            "text/html": [
              "<div>\n",
              "<style scoped>\n",
              "    .dataframe tbody tr th:only-of-type {\n",
              "        vertical-align: middle;\n",
              "    }\n",
              "\n",
              "    .dataframe tbody tr th {\n",
              "        vertical-align: top;\n",
              "    }\n",
              "\n",
              "    .dataframe thead th {\n",
              "        text-align: right;\n",
              "    }\n",
              "</style>\n",
              "<table border=\"1\" class=\"dataframe\">\n",
              "  <thead>\n",
              "    <tr style=\"text-align: right;\">\n",
              "      <th></th>\n",
              "      <th>budget</th>\n",
              "      <th>genres</th>\n",
              "      <th>homepage</th>\n",
              "      <th>id</th>\n",
              "      <th>keywords</th>\n",
              "      <th>original_language</th>\n",
              "      <th>original_title</th>\n",
              "      <th>overview</th>\n",
              "      <th>popularity</th>\n",
              "      <th>production_companies</th>\n",
              "      <th>production_countries</th>\n",
              "      <th>release_date</th>\n",
              "      <th>revenue</th>\n",
              "      <th>runtime</th>\n",
              "      <th>spoken_languages</th>\n",
              "      <th>status</th>\n",
              "      <th>tagline</th>\n",
              "      <th>title</th>\n",
              "      <th>vote_average</th>\n",
              "      <th>vote_count</th>\n",
              "    </tr>\n",
              "  </thead>\n",
              "  <tbody>\n",
              "    <tr>\n",
              "      <th>0</th>\n",
              "      <td>237000000</td>\n",
              "      <td>[{\"id\": 28, \"name\": \"Action\"}, {\"id\": 12, \"nam...</td>\n",
              "      <td>http://www.avatarmovie.com/</td>\n",
              "      <td>19995</td>\n",
              "      <td>[{\"id\": 1463, \"name\": \"culture clash\"}, {\"id\":...</td>\n",
              "      <td>en</td>\n",
              "      <td>Avatar</td>\n",
              "      <td>In the 22nd century, a paraplegic Marine is di...</td>\n",
              "      <td>150.437577</td>\n",
              "      <td>[{\"name\": \"Ingenious Film Partners\", \"id\": 289...</td>\n",
              "      <td>[{\"iso_3166_1\": \"US\", \"name\": \"United States o...</td>\n",
              "      <td>2009-12-10</td>\n",
              "      <td>2787965087</td>\n",
              "      <td>162.0</td>\n",
              "      <td>[{\"iso_639_1\": \"en\", \"name\": \"English\"}, {\"iso...</td>\n",
              "      <td>Released</td>\n",
              "      <td>Enter the World of Pandora.</td>\n",
              "      <td>Avatar</td>\n",
              "      <td>7.2</td>\n",
              "      <td>11800</td>\n",
              "    </tr>\n",
              "    <tr>\n",
              "      <th>1</th>\n",
              "      <td>300000000</td>\n",
              "      <td>[{\"id\": 12, \"name\": \"Adventure\"}, {\"id\": 14, \"...</td>\n",
              "      <td>http://disney.go.com/disneypictures/pirates/</td>\n",
              "      <td>285</td>\n",
              "      <td>[{\"id\": 270, \"name\": \"ocean\"}, {\"id\": 726, \"na...</td>\n",
              "      <td>en</td>\n",
              "      <td>Pirates of the Caribbean: At World's End</td>\n",
              "      <td>Captain Barbossa, long believed to be dead, ha...</td>\n",
              "      <td>139.082615</td>\n",
              "      <td>[{\"name\": \"Walt Disney Pictures\", \"id\": 2}, {\"...</td>\n",
              "      <td>[{\"iso_3166_1\": \"US\", \"name\": \"United States o...</td>\n",
              "      <td>2007-05-19</td>\n",
              "      <td>961000000</td>\n",
              "      <td>169.0</td>\n",
              "      <td>[{\"iso_639_1\": \"en\", \"name\": \"English\"}]</td>\n",
              "      <td>Released</td>\n",
              "      <td>At the end of the world, the adventure begins.</td>\n",
              "      <td>Pirates of the Caribbean: At World's End</td>\n",
              "      <td>6.9</td>\n",
              "      <td>4500</td>\n",
              "    </tr>\n",
              "    <tr>\n",
              "      <th>2</th>\n",
              "      <td>245000000</td>\n",
              "      <td>[{\"id\": 28, \"name\": \"Action\"}, {\"id\": 12, \"nam...</td>\n",
              "      <td>http://www.sonypictures.com/movies/spectre/</td>\n",
              "      <td>206647</td>\n",
              "      <td>[{\"id\": 470, \"name\": \"spy\"}, {\"id\": 818, \"name...</td>\n",
              "      <td>en</td>\n",
              "      <td>Spectre</td>\n",
              "      <td>A cryptic message from Bond’s past sends him o...</td>\n",
              "      <td>107.376788</td>\n",
              "      <td>[{\"name\": \"Columbia Pictures\", \"id\": 5}, {\"nam...</td>\n",
              "      <td>[{\"iso_3166_1\": \"GB\", \"name\": \"United Kingdom\"...</td>\n",
              "      <td>2015-10-26</td>\n",
              "      <td>880674609</td>\n",
              "      <td>148.0</td>\n",
              "      <td>[{\"iso_639_1\": \"fr\", \"name\": \"Fran\\u00e7ais\"},...</td>\n",
              "      <td>Released</td>\n",
              "      <td>A Plan No One Escapes</td>\n",
              "      <td>Spectre</td>\n",
              "      <td>6.3</td>\n",
              "      <td>4466</td>\n",
              "    </tr>\n",
              "    <tr>\n",
              "      <th>3</th>\n",
              "      <td>250000000</td>\n",
              "      <td>[{\"id\": 28, \"name\": \"Action\"}, {\"id\": 80, \"nam...</td>\n",
              "      <td>http://www.thedarkknightrises.com/</td>\n",
              "      <td>49026</td>\n",
              "      <td>[{\"id\": 849, \"name\": \"dc comics\"}, {\"id\": 853,...</td>\n",
              "      <td>en</td>\n",
              "      <td>The Dark Knight Rises</td>\n",
              "      <td>Following the death of District Attorney Harve...</td>\n",
              "      <td>112.312950</td>\n",
              "      <td>[{\"name\": \"Legendary Pictures\", \"id\": 923}, {\"...</td>\n",
              "      <td>[{\"iso_3166_1\": \"US\", \"name\": \"United States o...</td>\n",
              "      <td>2012-07-16</td>\n",
              "      <td>1084939099</td>\n",
              "      <td>165.0</td>\n",
              "      <td>[{\"iso_639_1\": \"en\", \"name\": \"English\"}]</td>\n",
              "      <td>Released</td>\n",
              "      <td>The Legend Ends</td>\n",
              "      <td>The Dark Knight Rises</td>\n",
              "      <td>7.6</td>\n",
              "      <td>9106</td>\n",
              "    </tr>\n",
              "    <tr>\n",
              "      <th>4</th>\n",
              "      <td>260000000</td>\n",
              "      <td>[{\"id\": 28, \"name\": \"Action\"}, {\"id\": 12, \"nam...</td>\n",
              "      <td>http://movies.disney.com/john-carter</td>\n",
              "      <td>49529</td>\n",
              "      <td>[{\"id\": 818, \"name\": \"based on novel\"}, {\"id\":...</td>\n",
              "      <td>en</td>\n",
              "      <td>John Carter</td>\n",
              "      <td>John Carter is a war-weary, former military ca...</td>\n",
              "      <td>43.926995</td>\n",
              "      <td>[{\"name\": \"Walt Disney Pictures\", \"id\": 2}]</td>\n",
              "      <td>[{\"iso_3166_1\": \"US\", \"name\": \"United States o...</td>\n",
              "      <td>2012-03-07</td>\n",
              "      <td>284139100</td>\n",
              "      <td>132.0</td>\n",
              "      <td>[{\"iso_639_1\": \"en\", \"name\": \"English\"}]</td>\n",
              "      <td>Released</td>\n",
              "      <td>Lost in our world, found in another.</td>\n",
              "      <td>John Carter</td>\n",
              "      <td>6.1</td>\n",
              "      <td>2124</td>\n",
              "    </tr>\n",
              "  </tbody>\n",
              "</table>\n",
              "</div>"
            ],
            "text/plain": [
              "      budget  ... vote_count\n",
              "0  237000000  ...      11800\n",
              "1  300000000  ...       4500\n",
              "2  245000000  ...       4466\n",
              "3  250000000  ...       9106\n",
              "4  260000000  ...       2124\n",
              "\n",
              "[5 rows x 20 columns]"
            ]
          },
          "metadata": {
            "tags": []
          },
          "execution_count": 382
        }
      ]
    },
    {
      "cell_type": "code",
      "metadata": {
        "id": "6zUK89J_X2Bc",
        "colab_type": "code",
        "colab": {
          "base_uri": "https://localhost:8080/",
          "height": 348
        },
        "outputId": "71a5c3d7-5d9e-4de7-859e-63302cf27076"
      },
      "source": [
        "def find_where_produced():\n",
        "  df.dropna(inplace = True)\n",
        "  df[\"made_where\"] = df[\"production_countries\"].str.find(\"United States of America\") \n",
        "  df.loc[df[\"made_where\"] != -1, [\"made_where\"]] = \"usa\"\n",
        "\n",
        "\n",
        "find_where_produced()\n",
        "\n",
        "df.tail(3)\n"
      ],
      "execution_count": 383,
      "outputs": [
        {
          "output_type": "execute_result",
          "data": {
            "text/html": [
              "<div>\n",
              "<style scoped>\n",
              "    .dataframe tbody tr th:only-of-type {\n",
              "        vertical-align: middle;\n",
              "    }\n",
              "\n",
              "    .dataframe tbody tr th {\n",
              "        vertical-align: top;\n",
              "    }\n",
              "\n",
              "    .dataframe thead th {\n",
              "        text-align: right;\n",
              "    }\n",
              "</style>\n",
              "<table border=\"1\" class=\"dataframe\">\n",
              "  <thead>\n",
              "    <tr style=\"text-align: right;\">\n",
              "      <th></th>\n",
              "      <th>budget</th>\n",
              "      <th>genres</th>\n",
              "      <th>homepage</th>\n",
              "      <th>id</th>\n",
              "      <th>keywords</th>\n",
              "      <th>original_language</th>\n",
              "      <th>original_title</th>\n",
              "      <th>overview</th>\n",
              "      <th>popularity</th>\n",
              "      <th>production_companies</th>\n",
              "      <th>production_countries</th>\n",
              "      <th>release_date</th>\n",
              "      <th>revenue</th>\n",
              "      <th>runtime</th>\n",
              "      <th>spoken_languages</th>\n",
              "      <th>status</th>\n",
              "      <th>tagline</th>\n",
              "      <th>title</th>\n",
              "      <th>vote_average</th>\n",
              "      <th>vote_count</th>\n",
              "      <th>made_where</th>\n",
              "    </tr>\n",
              "  </thead>\n",
              "  <tbody>\n",
              "    <tr>\n",
              "      <th>4791</th>\n",
              "      <td>13</td>\n",
              "      <td>[{\"id\": 27, \"name\": \"Horror\"}]</td>\n",
              "      <td>http://tincanmanthemovie.com/</td>\n",
              "      <td>157185</td>\n",
              "      <td>[{\"id\": 14903, \"name\": \"home invasion\"}]</td>\n",
              "      <td>en</td>\n",
              "      <td>Tin Can Man</td>\n",
              "      <td>Recently dumped by his girlfirend for another ...</td>\n",
              "      <td>0.332679</td>\n",
              "      <td>[{\"name\": \"Park Films\", \"id\": 21871}, {\"name\":...</td>\n",
              "      <td>[{\"iso_3166_1\": \"IE\", \"name\": \"Ireland\"}]</td>\n",
              "      <td>2007-01-01</td>\n",
              "      <td>0</td>\n",
              "      <td>84.0</td>\n",
              "      <td>[{\"iso_639_1\": \"en\", \"name\": \"English\"}]</td>\n",
              "      <td>Released</td>\n",
              "      <td>Everything You've Heard is True</td>\n",
              "      <td>Tin Can Man</td>\n",
              "      <td>2.0</td>\n",
              "      <td>1</td>\n",
              "      <td>-1</td>\n",
              "    </tr>\n",
              "    <tr>\n",
              "      <th>4796</th>\n",
              "      <td>7000</td>\n",
              "      <td>[{\"id\": 878, \"name\": \"Science Fiction\"}, {\"id\"...</td>\n",
              "      <td>http://www.primermovie.com</td>\n",
              "      <td>14337</td>\n",
              "      <td>[{\"id\": 1448, \"name\": \"distrust\"}, {\"id\": 2101...</td>\n",
              "      <td>en</td>\n",
              "      <td>Primer</td>\n",
              "      <td>Friends/fledgling entrepreneurs invent a devic...</td>\n",
              "      <td>23.307949</td>\n",
              "      <td>[{\"name\": \"Thinkfilm\", \"id\": 446}]</td>\n",
              "      <td>[{\"iso_3166_1\": \"US\", \"name\": \"United States o...</td>\n",
              "      <td>2004-10-08</td>\n",
              "      <td>424760</td>\n",
              "      <td>77.0</td>\n",
              "      <td>[{\"iso_639_1\": \"en\", \"name\": \"English\"}]</td>\n",
              "      <td>Released</td>\n",
              "      <td>What happens if it actually works?</td>\n",
              "      <td>Primer</td>\n",
              "      <td>6.9</td>\n",
              "      <td>658</td>\n",
              "      <td>usa</td>\n",
              "    </tr>\n",
              "    <tr>\n",
              "      <th>4801</th>\n",
              "      <td>0</td>\n",
              "      <td>[]</td>\n",
              "      <td>http://shanghaicalling.com/</td>\n",
              "      <td>126186</td>\n",
              "      <td>[]</td>\n",
              "      <td>en</td>\n",
              "      <td>Shanghai Calling</td>\n",
              "      <td>When ambitious New York attorney Sam is sent t...</td>\n",
              "      <td>0.857008</td>\n",
              "      <td>[]</td>\n",
              "      <td>[{\"iso_3166_1\": \"US\", \"name\": \"United States o...</td>\n",
              "      <td>2012-05-03</td>\n",
              "      <td>0</td>\n",
              "      <td>98.0</td>\n",
              "      <td>[{\"iso_639_1\": \"en\", \"name\": \"English\"}]</td>\n",
              "      <td>Released</td>\n",
              "      <td>A New Yorker in Shanghai</td>\n",
              "      <td>Shanghai Calling</td>\n",
              "      <td>5.7</td>\n",
              "      <td>7</td>\n",
              "      <td>usa</td>\n",
              "    </tr>\n",
              "  </tbody>\n",
              "</table>\n",
              "</div>"
            ],
            "text/plain": [
              "      budget  ... made_where\n",
              "4791      13  ...         -1\n",
              "4796    7000  ...        usa\n",
              "4801       0  ...        usa\n",
              "\n",
              "[3 rows x 21 columns]"
            ]
          },
          "metadata": {
            "tags": []
          },
          "execution_count": 383
        }
      ]
    },
    {
      "cell_type": "markdown",
      "metadata": {
        "id": "iQ6vnR7EBaCm",
        "colab_type": "text"
      },
      "source": [
        "#### Task 2: Visualizing the Rating Distributions\n",
        "\n",
        "Before applying the hypothesis testing, plot the distributions of ratings of movies from US and movies from other countries **in the same figure**. To this end, you may plot both ratings as histograms or seaborn kdeplots as we did in the hypothesis testing recitation."
      ]
    },
    {
      "cell_type": "code",
      "metadata": {
        "id": "gy1bFv2CCUu9",
        "colab_type": "code",
        "colab": {
          "base_uri": "https://localhost:8080/",
          "height": 265
        },
        "outputId": "11afe301-72cf-4a4f-f253-f76010f2028a"
      },
      "source": [
        "\n",
        "rating_us = df[df[\"made_where\"] == \"usa\"][\"vote_average\"]\n",
        "rating_nonus = df[df[\"made_where\"] == -1][\"vote_average\"]\n",
        "\n",
        "plt.hist(rating_us, bins = \"scott\")\n",
        "plt.hist(rating_nonus, bins = \"scott\")\n",
        "\n",
        "plt.show()\n",
        "\n",
        "\n",
        "\n"
      ],
      "execution_count": 385,
      "outputs": [
        {
          "output_type": "display_data",
          "data": {
            "image/png": "[encoded data removed]",
            "text/plain": [
              "<Figure size 432x288 with 1 Axes>"
            ]
          },
          "metadata": {
            "tags": [],
            "needs_background": "light"
          }
        }
      ]
    },
    {
      "cell_type": "markdown",
      "metadata": {
        "id": "IDtY5-hI_-CK",
        "colab_type": "text"
      },
      "source": [
        "#### Task 3: Comparing Ratings from US and Other Countries\n",
        "\n",
        "In this section, you need to test whether there is significant difference in the rating distributions of the movies produced in the US and films produced in other countries.\n",
        "\n",
        "Now, by utilizing the new column you created, test whether ratings of movies from US and from other countries differ significantly. Again, you can utilize the `stats.ttest_ind`.\n",
        "\n",
        "Then, evaluate the results of the hypothesis testing you conducted with significance level ($\\alpha$) set to 0.05. "
      ]
    },
    {
      "cell_type": "code",
      "metadata": {
        "id": "6oUq2crNC0Pc",
        "colab_type": "code",
        "colab": {
          "base_uri": "https://localhost:8080/",
          "height": 33
        },
        "outputId": "b8d0f688-5c35-4d56-e427-e5b14b65f381"
      },
      "source": [
        "df_us = pd.DataFrame(rating_us)\n",
        "df_nonus = pd.DataFrame(rating_nonus)\n",
        "\n",
        "t = stats.ttest_ind(df_us, df_nonus)\n",
        "print(t)\n",
        "\n"
      ],
      "execution_count": 259,
      "outputs": [
        {
          "output_type": "stream",
          "text": [
            "Ttest_indResult(statistic=array([-2.07360597]), pvalue=array([0.03828727]))\n"
          ],
          "name": "stdout"
        }
      ]
    },
    {
      "cell_type": "markdown",
      "metadata": {
        "id": "s3rZfRT6GiaI",
        "colab_type": "text"
      },
      "source": [
        "null hypothesis is rejected because of pvalue which is smaller than 0.05. This means that us movies have higher ratings. <font color=\"blue\">[Double click to type your decision and its explanation.]</font>"
      ]
    },
    {
      "cell_type": "markdown",
      "metadata": {
        "id": "ek62TpWAW1QP",
        "colab_type": "text"
      },
      "source": [
        "### Question 3: Chi-Square Test of Independence"
      ]
    },
    {
      "cell_type": "markdown",
      "metadata": {
        "id": "NelxCBpLX1Vz",
        "colab_type": "text"
      },
      "source": [
        "> **Chi-Square Test** can be used to test the independence of two categorical variables. However, to determine the critical value, we need to determine the degrees of freedom. In Chi-square tests, the degree of freedom value is determined by $(r-1)(c-1)$ where $r$ is the number of rows and $c$ is the number of the columns in the contingency table (crosstab). From the image below, you can find corresponding threshold values for varying degrees of freedom and threshold critical probability $\\alpha$.\n",
        "\n",
        "<img src=\"https://www.mun.ca/biology/scarr/IntroPopGen-Table-D-01-smc.jpg\" width=\"400\" height=\"400\" />\n",
        "\n"
      ]
    },
    {
      "cell_type": "markdown",
      "metadata": {
        "id": "KTgAZVVqz5DI",
        "colab_type": "text"
      },
      "source": [
        "For this question, you will use the `adults.csv` that is shared with you, which is a modified version of [this dataset](https://archive.ics.uci.edu/ml/datasets/Adult/). You will check for the statistical dependence between features `education` and `marital-status`.\n",
        "\n",
        "In the following test, our hypotheses setting is the following:\n",
        "\n",
        "$H_0$: `Education` and `Marital Status` are independent variables.\n",
        "\n",
        "$H_A$: `Education` and `Marital Status` are **not** independent variables."
      ]
    },
    {
      "cell_type": "code",
      "metadata": {
        "id": "PhrmKFXb0T9p",
        "colab_type": "code",
        "outputId": "b009bfc0-3f97-40ba-d030-f298031badd5",
        "colab": {
          "base_uri": "https://localhost:8080/",
          "height": 256
        }
      },
      "source": [
        "adults_df = pd.read_csv(join(path_prefix, \"adults.csv\"), index_col=False)\n",
        "adults_df.head()"
      ],
      "execution_count": 336,
      "outputs": [
        {
          "output_type": "execute_result",
          "data": {
            "text/html": [
              "<div>\n",
              "<style scoped>\n",
              "    .dataframe tbody tr th:only-of-type {\n",
              "        vertical-align: middle;\n",
              "    }\n",
              "\n",
              "    .dataframe tbody tr th {\n",
              "        vertical-align: top;\n",
              "    }\n",
              "\n",
              "    .dataframe thead th {\n",
              "        text-align: right;\n",
              "    }\n",
              "</style>\n",
              "<table border=\"1\" class=\"dataframe\">\n",
              "  <thead>\n",
              "    <tr style=\"text-align: right;\">\n",
              "      <th></th>\n",
              "      <th>age</th>\n",
              "      <th>workclass</th>\n",
              "      <th>fnlwgt</th>\n",
              "      <th>education</th>\n",
              "      <th>education-num</th>\n",
              "      <th>marital-status</th>\n",
              "      <th>occupation</th>\n",
              "      <th>relationship</th>\n",
              "      <th>race</th>\n",
              "      <th>sex</th>\n",
              "      <th>capital-gain</th>\n",
              "      <th>capital-loss</th>\n",
              "      <th>hours-per-week</th>\n",
              "      <th>native-country</th>\n",
              "    </tr>\n",
              "  </thead>\n",
              "  <tbody>\n",
              "    <tr>\n",
              "      <th>0</th>\n",
              "      <td>39</td>\n",
              "      <td>State-gov</td>\n",
              "      <td>77516</td>\n",
              "      <td>Bachelors</td>\n",
              "      <td>13</td>\n",
              "      <td>Never-married</td>\n",
              "      <td>Adm-clerical</td>\n",
              "      <td>Not-in-family</td>\n",
              "      <td>White</td>\n",
              "      <td>Male</td>\n",
              "      <td>2174</td>\n",
              "      <td>0</td>\n",
              "      <td>40</td>\n",
              "      <td>United-States</td>\n",
              "    </tr>\n",
              "    <tr>\n",
              "      <th>1</th>\n",
              "      <td>50</td>\n",
              "      <td>Self-emp-not-inc</td>\n",
              "      <td>83311</td>\n",
              "      <td>Bachelors</td>\n",
              "      <td>13</td>\n",
              "      <td>Married</td>\n",
              "      <td>Exec-managerial</td>\n",
              "      <td>Husband</td>\n",
              "      <td>White</td>\n",
              "      <td>Male</td>\n",
              "      <td>0</td>\n",
              "      <td>0</td>\n",
              "      <td>13</td>\n",
              "      <td>United-States</td>\n",
              "    </tr>\n",
              "    <tr>\n",
              "      <th>2</th>\n",
              "      <td>38</td>\n",
              "      <td>Private</td>\n",
              "      <td>215646</td>\n",
              "      <td>High-school</td>\n",
              "      <td>9</td>\n",
              "      <td>Divorced</td>\n",
              "      <td>Handlers-cleaners</td>\n",
              "      <td>Not-in-family</td>\n",
              "      <td>White</td>\n",
              "      <td>Male</td>\n",
              "      <td>0</td>\n",
              "      <td>0</td>\n",
              "      <td>40</td>\n",
              "      <td>United-States</td>\n",
              "    </tr>\n",
              "    <tr>\n",
              "      <th>3</th>\n",
              "      <td>53</td>\n",
              "      <td>Private</td>\n",
              "      <td>234721</td>\n",
              "      <td>High-school</td>\n",
              "      <td>7</td>\n",
              "      <td>Married</td>\n",
              "      <td>Handlers-cleaners</td>\n",
              "      <td>Husband</td>\n",
              "      <td>Black</td>\n",
              "      <td>Male</td>\n",
              "      <td>0</td>\n",
              "      <td>0</td>\n",
              "      <td>40</td>\n",
              "      <td>United-States</td>\n",
              "    </tr>\n",
              "    <tr>\n",
              "      <th>4</th>\n",
              "      <td>28</td>\n",
              "      <td>Private</td>\n",
              "      <td>338409</td>\n",
              "      <td>Bachelors</td>\n",
              "      <td>13</td>\n",
              "      <td>Married</td>\n",
              "      <td>Prof-specialty</td>\n",
              "      <td>Wife</td>\n",
              "      <td>Black</td>\n",
              "      <td>Female</td>\n",
              "      <td>0</td>\n",
              "      <td>0</td>\n",
              "      <td>40</td>\n",
              "      <td>Cuba</td>\n",
              "    </tr>\n",
              "  </tbody>\n",
              "</table>\n",
              "</div>"
            ],
            "text/plain": [
              "   age         workclass  fnlwgt  ... capital-loss  hours-per-week native-country\n",
              "0   39         State-gov   77516  ...            0              40  United-States\n",
              "1   50  Self-emp-not-inc   83311  ...            0              13  United-States\n",
              "2   38           Private  215646  ...            0              40  United-States\n",
              "3   53           Private  234721  ...            0              40  United-States\n",
              "4   28           Private  338409  ...            0              40           Cuba\n",
              "\n",
              "[5 rows x 14 columns]"
            ]
          },
          "metadata": {
            "tags": []
          },
          "execution_count": 336
        }
      ]
    },
    {
      "cell_type": "markdown",
      "metadata": {
        "id": "9ia0b1Z5NBAd",
        "colab_type": "text"
      },
      "source": [
        "#### Task 1: Creating the Contingency Table\n",
        "\n",
        "> A contingency table is a special type of frequency distribution table that displays the frequency counts of two categorical variables.\n",
        "\n",
        "By using `pd.crosstable`, create an appropriate table format to apply Chi-Square test on features `education` and `marital-status`.\n",
        "\n",
        "*hint: You may check the related recitation material.*"
      ]
    },
    {
      "cell_type": "code",
      "metadata": {
        "id": "OQK5TOafmmAS",
        "colab_type": "code",
        "colab": {
          "base_uri": "https://localhost:8080/",
          "height": 248
        },
        "outputId": "18398887-769c-432a-b33d-8474d874eb45"
      },
      "source": [
        "education = pd.crosstab(adults_df[\"education\"], adults_df[\"marital-status\"])\n",
        "education"
      ],
      "execution_count": 344,
      "outputs": [
        {
          "output_type": "execute_result",
          "data": {
            "text/html": [
              "<div>\n",
              "<style scoped>\n",
              "    .dataframe tbody tr th:only-of-type {\n",
              "        vertical-align: middle;\n",
              "    }\n",
              "\n",
              "    .dataframe tbody tr th {\n",
              "        vertical-align: top;\n",
              "    }\n",
              "\n",
              "    .dataframe thead th {\n",
              "        text-align: right;\n",
              "    }\n",
              "</style>\n",
              "<table border=\"1\" class=\"dataframe\">\n",
              "  <thead>\n",
              "    <tr style=\"text-align: right;\">\n",
              "      <th>marital-status</th>\n",
              "      <th>Divorced</th>\n",
              "      <th>Married</th>\n",
              "      <th>Never-married</th>\n",
              "    </tr>\n",
              "    <tr>\n",
              "      <th>education</th>\n",
              "      <th></th>\n",
              "      <th></th>\n",
              "      <th></th>\n",
              "    </tr>\n",
              "  </thead>\n",
              "  <tbody>\n",
              "    <tr>\n",
              "      <th>Bachelors</th>\n",
              "      <td>720</td>\n",
              "      <td>2840</td>\n",
              "      <td>1795</td>\n",
              "    </tr>\n",
              "    <tr>\n",
              "      <th>Doctorate</th>\n",
              "      <td>47</td>\n",
              "      <td>293</td>\n",
              "      <td>73</td>\n",
              "    </tr>\n",
              "    <tr>\n",
              "      <th>High-school</th>\n",
              "      <td>3288</td>\n",
              "      <td>6751</td>\n",
              "      <td>4664</td>\n",
              "    </tr>\n",
              "    <tr>\n",
              "      <th>Masters</th>\n",
              "      <td>299</td>\n",
              "      <td>1020</td>\n",
              "      <td>404</td>\n",
              "    </tr>\n",
              "    <tr>\n",
              "      <th>Preschool</th>\n",
              "      <td>5</td>\n",
              "      <td>24</td>\n",
              "      <td>22</td>\n",
              "    </tr>\n",
              "    <tr>\n",
              "      <th>Some-college</th>\n",
              "      <td>2102</td>\n",
              "      <td>4489</td>\n",
              "      <td>3725</td>\n",
              "    </tr>\n",
              "  </tbody>\n",
              "</table>\n",
              "</div>"
            ],
            "text/plain": [
              "marital-status  Divorced  Married  Never-married\n",
              "education                                       \n",
              "Bachelors            720     2840           1795\n",
              "Doctorate             47      293             73\n",
              "High-school         3288     6751           4664\n",
              "Masters              299     1020            404\n",
              "Preschool              5       24             22\n",
              "Some-college        2102     4489           3725"
            ]
          },
          "metadata": {
            "tags": []
          },
          "execution_count": 344
        }
      ]
    },
    {
      "cell_type": "markdown",
      "metadata": {
        "id": "PdXwgxO3mm6E",
        "colab_type": "text"
      },
      "source": [
        "#### Task 2: Visualizing the Crosstable\n",
        "\n",
        "Create a *stacked bar chart* for the **row-wise normalized** crosstable, where the bars are grouped by education levels, so that any dependency should be visualy noticable. \n",
        "\n",
        "An exemplary figure can be found below.\n",
        "\n",
        "<img width=\"700\" height=\"300\" src=\"https://i.ibb.co/cTx8VQ4/pm.png\" />"
      ]
    },
    {
      "cell_type": "code",
      "metadata": {
        "id": "icgy20Vfml4m",
        "colab_type": "code",
        "colab": {
          "base_uri": "https://localhost:8080/",
          "height": 353
        },
        "outputId": "39a8fadf-2b48-4776-b4da-fc3e2b5a439a"
      },
      "source": [
        "\n",
        "x = pd.crosstab(adults_df[\"education\"], adults_df[\"marital-status\"], normalize = 'index')\n",
        "x.plot(kind='bar', stacked = True, color=['red','green','blue'])"
      ],
      "execution_count": 345,
      "outputs": [
        {
          "output_type": "execute_result",
          "data": {
            "text/plain": [
              "<matplotlib.axes._subplots.AxesSubplot at 0x7f42278107f0>"
            ]
          },
          "metadata": {
            "tags": []
          },
          "execution_count": 345
        },
        {
          "output_type": "display_data",
          "data": {
            "image/png": "[encoded data removed]",
            "text/plain": [
              "<Figure size 432x288 with 1 Axes>"
            ]
          },
          "metadata": {
            "tags": [],
            "needs_background": "light"
          }
        }
      ]
    },
    {
      "cell_type": "markdown",
      "metadata": {
        "id": "hbC8fdOvmnTx",
        "colab_type": "text"
      },
      "source": [
        "#### Task 3: Computing The Chi-Square Test Statistic\n",
        "\n",
        "For this task, you are going to implement the Chi-Square Test from scratch. In the previous task, you created a contingency table that summarizes the relationship between two categorical variable by storing the frequencies, called **observations**, in each corresponding cell.  However, in order to observe the significance of these observations, we need to obtain **expected frequencies** which specify what the values of each cell of the contingency table would be if there was no association between the two variables. Once you obtain the expected frequencies, you can calculate the test statistic quite easily.\n",
        "\n",
        "Below you can find the detailed instructions to perform the test.\n",
        "\n",
        "1. Compute the contingency table.\n",
        "\n",
        "2. Calculate expected frequencies\n",
        "  - For a particular cell located at $i^{th}$ row and $j^{th}$ column, the expected frequency is $\\large{\\frac{(f_i*f_j)}{total}}$, where $f_i$ is the total frequency in row i and $f_j$ is the total frequency in column j. In parallel, $total$ is the overall frequency.\n",
        "\n",
        "  - For instance, in the contingency table below, red numbers represent row and column totals, whereas the blue value represents the total frequency. The expected frequency of cell [over 30, analog], highlighted as green, can be calculated as $\\large{\\frac{(60*80)}{200}}$.\n",
        "\n",
        "| |  | Watching | Preference | |\n",
        "|:-:|:-:|:-:|:-:|:-:|\n",
        "| Age\t|\tdigital | \tanalog |\tundecided |\n",
        "| under 30 | \t90 | \t40 |\t10 |\t<font color=\"red\">140</font>\n",
        "| over 30 |\t10 |\t**<font color=\"green\">40<font>** |\t10 |\t<font color=\"red\">60</font>\n",
        "|\t| <font color=\"red\">100</font> | \t<font color=\"red\">80</font> |\t<font color=\"red\">20</font> | \t<font color=\"blue\">200</font>\n",
        "\n",
        "3. Compute the Chi-squared statistic.\n",
        "\n",
        "  - $\\chi^2 = \\sum \\Large{\\frac{(f_o-f_e)^2}{f_e}}$, where $f_o$ and $f_e$ are the observed and expected frequencies, respectively.\n",
        "\n",
        "  - For each cell in the contingency table, you are going to compute the residual, $f_o-f_e$, take its square and divide it to $f_e$. And finally sum all the results, so that you will obtain the chi2 test statistic, $\\chi^2$.\n",
        "\n",
        "4. Find the Degrees of Freedom\n",
        "\n",
        "  - $(r-1)(c-1)$, where $r$ is the number of rows and $c$ is the number of the contingency table.\n",
        "\n",
        "5. Obtain the p-value.\n",
        "\n",
        "  - Use scipy's `chdtrc` function to calculate the p-value. The sample usage can be found below.\n",
        "\n",
        "  ```py\n",
        "  >>> from scipy.special import chdtrc\n",
        "    # dof -> degrees of freedom\n",
        "    # chi2_stat -> obtained chi2 statistic\n",
        "  >> chdtrc(dof, chi2_stat)\n",
        "  ```\n",
        "\n",
        "You can always test your results with the `scipy.stats.chi2_contingency` as we did in recitation 6.\n",
        "\n",
        "You may also check the link below to observe an exemplary setup.\n",
        "\n",
        "https://stattrek.com/chi-square-test/independence.aspx\n",
        "\n",
        "Once you perform the steps above, print the obtained $\\chi^2$ and corresponding p-value."
      ]
    },
    {
      "cell_type": "code",
      "metadata": {
        "id": "YxYRmqyQmllL",
        "colab_type": "code",
        "colab": {
          "base_uri": "https://localhost:8080/",
          "height": 391
        },
        "outputId": "c1b62437-0227-49ee-df0c-36f647d02c70"
      },
      "source": [
        "# your code\n",
        "from scipy.special import chdtrc\n",
        "!pip install researchpy\n",
        "import researchpy\n",
        "\n",
        "researchpy.crosstab(adults_df['education'], adults_df['marital-status'], test= \"chi-square\")\n"
      ],
      "execution_count": 375,
      "outputs": [
        {
          "output_type": "stream",
          "text": [
            "Requirement already satisfied: researchpy in /usr/local/lib/python3.6/dist-packages (0.1.9)\n",
            "Requirement already satisfied: pandas in /usr/local/lib/python3.6/dist-packages (from researchpy) (1.0.3)\n",
            "Requirement already satisfied: scipy in /usr/local/lib/python3.6/dist-packages (from researchpy) (1.4.1)\n",
            "Requirement already satisfied: numpy in /usr/local/lib/python3.6/dist-packages (from researchpy) (1.18.2)\n",
            "Requirement already satisfied: statsmodels in /usr/local/lib/python3.6/dist-packages (from researchpy) (0.10.2)\n",
            "Requirement already satisfied: pytz>=2017.2 in /usr/local/lib/python3.6/dist-packages (from pandas->researchpy) (2018.9)\n",
            "Requirement already satisfied: python-dateutil>=2.6.1 in /usr/local/lib/python3.6/dist-packages (from pandas->researchpy) (2.8.1)\n",
            "Requirement already satisfied: patsy>=0.4.0 in /usr/local/lib/python3.6/dist-packages (from statsmodels->researchpy) (0.5.1)\n",
            "Requirement already satisfied: six>=1.5 in /usr/local/lib/python3.6/dist-packages (from python-dateutil>=2.6.1->pandas->researchpy) (1.12.0)\n"
          ],
          "name": "stdout"
        },
        {
          "output_type": "execute_result",
          "data": {
            "text/plain": [
              "(               marital-status                             \n",
              " marital-status       Divorced Married Never-married    All\n",
              " education                                                 \n",
              " Bachelors                 720    2840          1795   5355\n",
              " Doctorate                  47     293            73    413\n",
              " High-school              3288    6751          4664  14703\n",
              " Masters                   299    1020           404   1723\n",
              " Preschool                   5      24            22     51\n",
              " Some-college             2102    4489          3725  10316\n",
              " All                      6461   15417         10683  32561,\n",
              "                  Chi-square test   results\n",
              " 0  Pearson Chi-square ( 10.0) =   473.3673\n",
              " 1                     p-value =     0.0000\n",
              " 2                  Cramer's V =     0.0853)"
            ]
          },
          "metadata": {
            "tags": []
          },
          "execution_count": 375
        }
      ]
    },
    {
      "cell_type": "markdown",
      "metadata": {
        "id": "U9chhXnXQUUk",
        "colab_type": "text"
      },
      "source": [
        "#### Task 4: Conclusion\n",
        "\n",
        "Compare the obtained p-value and $\\alpha$ (0.05), then evaluate your hypotheses."
      ]
    },
    {
      "cell_type": "markdown",
      "metadata": {
        "id": "x_QRWVZMTD73",
        "colab_type": "text"
      },
      "source": [
        "reject null. <font color=\"blue\">[Double click to type your decision and its explanation.]</font>\n",
        "\n",
        "\n",
        "\n"
      ]
    }
  ]
}