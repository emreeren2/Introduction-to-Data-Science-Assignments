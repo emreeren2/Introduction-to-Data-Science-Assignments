{
  "nbformat": 4,
  "nbformat_minor": 0,
  "metadata": {
    "colab": {
      "name": "eren_emre_th1.ipynb",
      "provenance": [],
      "collapsed_sections": [],
      "toc_visible": true
    },
    "kernelspec": {
      "name": "python3",
      "display_name": "Python 3"
    }
  },
  "cells": [
    {
      "cell_type": "markdown",
      "metadata": {
        "id": "EWSPUJGk3kH4",
        "colab_type": "text"
      },
      "source": [
        "# Take-Home Exam 1: NYC Bike Rentals - Data Exploration\n",
        "\n",
        "In this take-home exam, you are going to investigate bike rentals that took place in NYC. Most of the tasks involve the libraries that you have experienced, such as pandas and matplotlib. In addition, you are going to use `folium` as well, in order to plot spatial distributions.\n",
        "\n",
        "**Submission Instructions**\n",
        "\n",
        "---\n",
        "Copy this assignment to you Drive. <font color = 'red'> `File` --> `Save a copy in Drive`</font>. Rename it as <font color = 'green'>`Lastname_Firstname_th1`</font>.\n",
        "\n",
        "Write your solutions in the cells  marked <font color = 'green'>`# your code`</font>.\n",
        "\n",
        "When you're done please submit your solutions as an <font color=\"red\">`.ipynb`</font> file. To do so:\n",
        "\n",
        "\n",
        "1.  Click on <font color=\"red\">`File`</font>  at the top left on the Colab screen, then click on <font color = 'red'>`Download .ipynb`</font>.\n",
        "2.   Then submit the <font color=\"red\">`.ipynb`</font> version of your work on your SUCourse submission.\n",
        "\n",
        "\n",
        "For any question, you may send an email to the TAs and LAs.\n",
        "\n",
        "---"
      ]
    },
    {
      "cell_type": "code",
      "metadata": {
        "id": "6bMsbFFU3G7O",
        "colab_type": "code",
        "outputId": "75147f7e-6991-4a8b-f60e-a140c37e3534",
        "colab": {
          "base_uri": "https://localhost:8080/",
          "height": 33
        }
      },
      "source": [
        "from google.colab import drive\n",
        "drive.mount(\"/content/drive\", force_remount=True)\n",
        "\n",
        "path_prefix = \"/content/drive/My Drive\""
      ],
      "execution_count": 0,
      "outputs": [
        {
          "output_type": "stream",
          "text": [
            "Mounted at /content/drive\n"
          ],
          "name": "stdout"
        }
      ]
    },
    {
      "cell_type": "code",
      "metadata": {
        "id": "iMhn-Pd23UFZ",
        "colab_type": "code",
        "colab": {}
      },
      "source": [
        "import pandas as pd\n",
        "import numpy as np\n",
        "import matplotlib.pyplot as plt\n",
        "\n",
        "from os.path import join\n",
        "\n",
        "%matplotlib inline"
      ],
      "execution_count": 0,
      "outputs": []
    },
    {
      "cell_type": "code",
      "metadata": {
        "id": "ejGqxWtC3f5g",
        "colab_type": "code",
        "outputId": "72642bcc-92ea-4f6d-8dd3-872bd50e6d4c",
        "colab": {
          "base_uri": "https://localhost:8080/",
          "height": 305
        }
      },
      "source": [
        "fname = \"NYC-CityBike.csv\"\n",
        "df = pd.read_csv(join(path_prefix, fname))\n",
        "\n",
        "df.head()"
      ],
      "execution_count": 0,
      "outputs": [
        {
          "output_type": "execute_result",
          "data": {
            "text/html": [
              "<div>\n",
              "<style scoped>\n",
              "    .dataframe tbody tr th:only-of-type {\n",
              "        vertical-align: middle;\n",
              "    }\n",
              "\n",
              "    .dataframe tbody tr th {\n",
              "        vertical-align: top;\n",
              "    }\n",
              "\n",
              "    .dataframe thead th {\n",
              "        text-align: right;\n",
              "    }\n",
              "</style>\n",
              "<table border=\"1\" class=\"dataframe\">\n",
              "  <thead>\n",
              "    <tr style=\"text-align: right;\">\n",
              "      <th></th>\n",
              "      <th>starttime</th>\n",
              "      <th>stoptime</th>\n",
              "      <th>start station id</th>\n",
              "      <th>start station name</th>\n",
              "      <th>start station latitude</th>\n",
              "      <th>start station longitude</th>\n",
              "      <th>end station id</th>\n",
              "      <th>end station name</th>\n",
              "      <th>end station latitude</th>\n",
              "      <th>end station longitude</th>\n",
              "      <th>bikeid</th>\n",
              "      <th>usertype</th>\n",
              "      <th>birth year</th>\n",
              "      <th>gender</th>\n",
              "    </tr>\n",
              "  </thead>\n",
              "  <tbody>\n",
              "    <tr>\n",
              "      <th>0</th>\n",
              "      <td>2016-05-31 19:58:48</td>\n",
              "      <td>5/31/2016 20:03:51</td>\n",
              "      <td>167</td>\n",
              "      <td>E 39 St &amp; 3 Ave</td>\n",
              "      <td>40.748901</td>\n",
              "      <td>-73.976049</td>\n",
              "      <td>501</td>\n",
              "      <td>FDR Drive &amp; E 35 St</td>\n",
              "      <td>40.744219</td>\n",
              "      <td>-73.971212</td>\n",
              "      <td>19022</td>\n",
              "      <td>Subscriber</td>\n",
              "      <td>1990.0</td>\n",
              "      <td>1</td>\n",
              "    </tr>\n",
              "    <tr>\n",
              "      <th>1</th>\n",
              "      <td>2016-03-23 11:32:40</td>\n",
              "      <td>3/23/2016 12:06:44</td>\n",
              "      <td>439</td>\n",
              "      <td>E 4 St &amp; 2 Ave</td>\n",
              "      <td>40.726281</td>\n",
              "      <td>-73.989780</td>\n",
              "      <td>319</td>\n",
              "      <td>Fulton St &amp; Broadway</td>\n",
              "      <td>40.711066</td>\n",
              "      <td>-74.009447</td>\n",
              "      <td>18097</td>\n",
              "      <td>Customer</td>\n",
              "      <td>NaN</td>\n",
              "      <td>0</td>\n",
              "    </tr>\n",
              "    <tr>\n",
              "      <th>2</th>\n",
              "      <td>2016-05-09 07:31:19</td>\n",
              "      <td>5/9/2016 07:38:27</td>\n",
              "      <td>517</td>\n",
              "      <td>Pershing Square South</td>\n",
              "      <td>40.751581</td>\n",
              "      <td>-73.977910</td>\n",
              "      <td>491</td>\n",
              "      <td>E 24 St &amp; Park Ave S</td>\n",
              "      <td>40.740964</td>\n",
              "      <td>-73.986022</td>\n",
              "      <td>17171</td>\n",
              "      <td>Subscriber</td>\n",
              "      <td>1985.0</td>\n",
              "      <td>1</td>\n",
              "    </tr>\n",
              "    <tr>\n",
              "      <th>3</th>\n",
              "      <td>2016-04-17 18:08:30</td>\n",
              "      <td>4/17/2016 18:11:27</td>\n",
              "      <td>3154</td>\n",
              "      <td>E 77 St &amp; 3 Ave</td>\n",
              "      <td>40.773142</td>\n",
              "      <td>-73.958562</td>\n",
              "      <td>3140</td>\n",
              "      <td>1 Ave &amp; E 78 St</td>\n",
              "      <td>40.771404</td>\n",
              "      <td>-73.953517</td>\n",
              "      <td>16765</td>\n",
              "      <td>Subscriber</td>\n",
              "      <td>1989.0</td>\n",
              "      <td>1</td>\n",
              "    </tr>\n",
              "    <tr>\n",
              "      <th>4</th>\n",
              "      <td>2016-05-24 21:10:12</td>\n",
              "      <td>5/24/2016 21:16:51</td>\n",
              "      <td>308</td>\n",
              "      <td>St James Pl &amp; Oliver St</td>\n",
              "      <td>40.713079</td>\n",
              "      <td>-73.998512</td>\n",
              "      <td>251</td>\n",
              "      <td>Mott St &amp; Prince St</td>\n",
              "      <td>40.723180</td>\n",
              "      <td>-73.994800</td>\n",
              "      <td>22554</td>\n",
              "      <td>Subscriber</td>\n",
              "      <td>1964.0</td>\n",
              "      <td>1</td>\n",
              "    </tr>\n",
              "  </tbody>\n",
              "</table>\n",
              "</div>"
            ],
            "text/plain": [
              "             starttime            stoptime  ...  birth year gender\n",
              "0  2016-05-31 19:58:48  5/31/2016 20:03:51  ...      1990.0      1\n",
              "1  2016-03-23 11:32:40  3/23/2016 12:06:44  ...         NaN      0\n",
              "2  2016-05-09 07:31:19   5/9/2016 07:38:27  ...      1985.0      1\n",
              "3  2016-04-17 18:08:30  4/17/2016 18:11:27  ...      1989.0      1\n",
              "4  2016-05-24 21:10:12  5/24/2016 21:16:51  ...      1964.0      1\n",
              "\n",
              "[5 rows x 14 columns]"
            ]
          },
          "metadata": {
            "tags": []
          },
          "execution_count": 33
        }
      ]
    },
    {
      "cell_type": "markdown",
      "metadata": {
        "id": "F4eUIF8RqASr",
        "colab_type": "text"
      },
      "source": [
        "## Data Pre-Processing"
      ]
    },
    {
      "cell_type": "markdown",
      "metadata": {
        "id": "o2IbPBlOX-sS",
        "colab_type": "text"
      },
      "source": [
        "#### Datetime Conversion\n",
        "\n",
        "In the dataframe, the `starttime`, `stoptime` columns are object data types. Convert them to datetime objects as you did in the recitations."
      ]
    },
    {
      "cell_type": "code",
      "metadata": {
        "id": "MSsM6p68d_ff",
        "colab_type": "code",
        "outputId": "4caaea07-bb67-4d01-d668-ac893bad026a",
        "colab": {
          "base_uri": "https://localhost:8080/",
          "height": 212
        }
      },
      "source": [
        "# your code\n",
        "df[\"starttime\"] = pd.to_datetime(df[\"starttime\"])\n",
        "df[\"stoptime\"] = pd.to_datetime(df[\"stoptime\"])\n",
        "df[\"starttime\"]"
      ],
      "execution_count": 0,
      "outputs": [
        {
          "output_type": "execute_result",
          "data": {
            "text/plain": [
              "0       2016-05-31 19:58:48\n",
              "1       2016-03-23 11:32:40\n",
              "2       2016-05-09 07:31:19\n",
              "3       2016-04-17 18:08:30\n",
              "4       2016-05-24 21:10:12\n",
              "                ...        \n",
              "84373   2016-03-17 18:10:01\n",
              "84374   2016-01-08 12:46:03\n",
              "84375   2016-05-02 16:08:22\n",
              "84376   2016-01-06 17:02:06\n",
              "84377   2016-04-01 13:09:19\n",
              "Name: starttime, Length: 84378, dtype: datetime64[ns]"
            ]
          },
          "metadata": {
            "tags": []
          },
          "execution_count": 34
        }
      ]
    },
    {
      "cell_type": "markdown",
      "metadata": {
        "id": "W1La8Z9jX2Ck",
        "colab_type": "text"
      },
      "source": [
        "#### Dealing with NaN values"
      ]
    },
    {
      "cell_type": "markdown",
      "metadata": {
        "id": "-NpPv8PoebC5",
        "colab_type": "text"
      },
      "source": [
        "##### Check NaN Distributions\n",
        "\n",
        "Show the percentage of NaN values in each column.\n",
        "\n",
        "*hint: You may check recitation materials.*"
      ]
    },
    {
      "cell_type": "code",
      "metadata": {
        "id": "SMeFYf6UgTCb",
        "colab_type": "code",
        "outputId": "9f289edf-0338-4a54-de10-dd2b53efb439",
        "colab": {
          "base_uri": "https://localhost:8080/",
          "height": 261
        }
      },
      "source": [
        "# your code\n",
        "df.isnull().sum() / df.shape[0]"
      ],
      "execution_count": 0,
      "outputs": [
        {
          "output_type": "execute_result",
          "data": {
            "text/plain": [
              "starttime                  0.000000\n",
              "stoptime                   0.000000\n",
              "start station id           0.000000\n",
              "start station name         0.000000\n",
              "start station latitude     0.000000\n",
              "start station longitude    0.000000\n",
              "end station id             0.000000\n",
              "end station name           0.000000\n",
              "end station latitude       0.000000\n",
              "end station longitude      0.000000\n",
              "bikeid                     0.000000\n",
              "usertype                   0.000000\n",
              "birth year                 0.107587\n",
              "gender                     0.000000\n",
              "dtype: float64"
            ]
          },
          "metadata": {
            "tags": []
          },
          "execution_count": 35
        }
      ]
    },
    {
      "cell_type": "markdown",
      "metadata": {
        "id": "FBgz1-3NgW1s",
        "colab_type": "text"
      },
      "source": [
        "##### Dropping NaNs\n",
        "\n",
        "In the following tasks, you will work on age distribution and grouppings. As a result, you need to get rid of NaN age values.\n",
        "\n",
        "Drop NaN values from the dataframe.\n"
      ]
    },
    {
      "cell_type": "code",
      "metadata": {
        "id": "q6Khu_sdi20l",
        "colab_type": "code",
        "colab": {}
      },
      "source": [
        "# your code\n",
        "df = df.dropna()"
      ],
      "execution_count": 0,
      "outputs": []
    },
    {
      "cell_type": "markdown",
      "metadata": {
        "id": "QAAtd9nIYBDy",
        "colab_type": "text"
      },
      "source": [
        "#### Distance Calculation\n",
        "\n",
        "Create a new column named `distance` by calculating the distance between starting and ending locations of the bike rents.\n",
        "\n",
        "You may utilize any library you wish. But we encourage you to use [Geopy](https://pypi.org/project/geopy/) library and its distance functionality.\n",
        "\n",
        "Please check out the usage of the library from the url provided if you decided to use Geopy."
      ]
    },
    {
      "cell_type": "code",
      "metadata": {
        "id": "-L5VQKclKEqU",
        "colab_type": "code",
        "colab": {}
      },
      "source": [
        "# your code\n",
        "from geopy.distance import geodesic\n",
        "\n",
        "def dist(q,w,e,r):\n",
        "  start = (q,w)\n",
        "  stop = (e,r)\n",
        "  return geodesic(stop,start).miles\n",
        "\n",
        "df[\"distance\"] = df.apply(lambda x: dist(x['start station latitude'],x['start station longitude'],x['end station latitude'],x['end station longitude']), axis = 1)"
      ],
      "execution_count": 0,
      "outputs": []
    },
    {
      "cell_type": "markdown",
      "metadata": {
        "id": "_Fdx0AZOM_kW",
        "colab_type": "text"
      },
      "source": [
        "#### Age Distribution\n",
        "\n",
        "As you may have checked, the age of people who uses bikes in the NYC varies a lot. To analyze this observation further, we can categorize the age of people using bikes. However, before doing that it is a good idea to check the age distribution first.\n",
        "\n",
        "**Now, please perform following tasks.**\n",
        "\n",
        "1. **Create a function to be applied on the dataframe to extract the age information from given `birth year` column. Then, create a new column called `age` with the information extracted.**\n",
        "2. **Check age distribution (of column `age`) in a histogram.**\n",
        "3. **Create your own age categories after observing the age distributions.**\n",
        "4. **Express your rationale on your age category selection with markdown writing (and please use available formatting options).**\n",
        "\n",
        "An example category list is given below.\n",
        "\n",
        "*An example age category list:*\n",
        "  - *Between 0 and 14 ages, child*\n",
        "  - *Between 15 and 24 ages, young* \n",
        "  - *Between 25 and 64 ages, adult*\n",
        "  - *For people who are 65+, senior*"
      ]
    },
    {
      "cell_type": "code",
      "metadata": {
        "id": "4vA5Vsu-QCje",
        "colab_type": "code",
        "outputId": "2fb5dfb0-21f9-4fe0-b574-22ca46d2c625",
        "colab": {
          "base_uri": "https://localhost:8080/",
          "height": 281
        }
      },
      "source": [
        "# your code\n",
        "from datetime import datetime\n",
        "\n",
        "def agef(x):\n",
        "  return datetime.now().year - x\n",
        "\n",
        "df[\"age\"] = df[\"birth year\"].apply(agef).astype(int)\n",
        "df[\"age\"].plot(kind=\"hist\", bins=20, rwidth=0.9)"
      ],
      "execution_count": 0,
      "outputs": [
        {
          "output_type": "execute_result",
          "data": {
            "text/plain": [
              "<matplotlib.axes._subplots.AxesSubplot at 0x7f40214c5320>"
            ]
          },
          "metadata": {
            "tags": []
          },
          "execution_count": 39
        },
        {
          "output_type": "display_data",
          "data": {
            "image/png": "[encoded data removed]",
            "text/plain": [
              "<Figure size 432x288 with 1 Axes>"
            ]
          },
          "metadata": {
            "tags": []
          }
        }
      ]
    },
    {
      "cell_type": "markdown",
      "metadata": {
        "id": "O8E6DunoZS5z",
        "colab_type": "text"
      },
      "source": [
        "#### Age Groups\n",
        "\n",
        "\n",
        "In order to categorize bike users in terms of their ages, create a function for age categorization called `age_categorize` by referring to the categories and their corresponding age intervals that you explained and justified above. Then, **apply** this function to create a new column in the dataframe called `age_category`."
      ]
    },
    {
      "cell_type": "code",
      "metadata": {
        "id": "gSLgByY7E061",
        "colab_type": "code",
        "colab": {}
      },
      "source": [
        "# your code\n",
        "def age_categorize(age):\n",
        "  if age<18:\n",
        "    return \"Child\"\n",
        "  elif age<34:\n",
        "    return \"Young\"\n",
        "  elif age<60:\n",
        "    return \"Adult\"\n",
        "  else :\n",
        "    return \"Senior\"\n",
        "\n",
        "df[\"age_category\"]=df[\"age\"].apply(age_categorize).astype(str)"
      ],
      "execution_count": 0,
      "outputs": []
    },
    {
      "cell_type": "markdown",
      "metadata": {
        "id": "Wnbt03-TXRKt",
        "colab_type": "text"
      },
      "source": [
        "## Extracting Insights"
      ]
    },
    {
      "cell_type": "markdown",
      "metadata": {
        "id": "-KplV3EXaIWo",
        "colab_type": "text"
      },
      "source": [
        "#### Distance Distributions\n",
        "\n",
        "With a histogram, plot the distribution of the `distance` column that you added to the dataframe in the earlier steps.\n"
      ]
    },
    {
      "cell_type": "code",
      "metadata": {
        "id": "J_8fL2-7J3mt",
        "colab_type": "code",
        "outputId": "c0f562bb-0b61-4fcc-fe7e-4225c5103a6d",
        "colab": {
          "base_uri": "https://localhost:8080/",
          "height": 281
        }
      },
      "source": [
        "# your code\n",
        "def distance_count(df):\n",
        "    return df.query('distance == \"0\"').distance.count()\n",
        "objects = ('Zero', 'Non-Zero',)\n",
        "y_pos = [0,0.25]\n",
        "occurence = [distance_count(df),df.shape[0]+1]\n",
        "plt.bar(y_pos, occurence,align='center',width=0.2)\n",
        "\n",
        "plt.xticks(y_pos, objects)\n",
        "plt.ylabel('Occurences')\n",
        "plt.title('Distance')\n",
        "plt.show()"
      ],
      "execution_count": 0,
      "outputs": [
        {
          "output_type": "display_data",
          "data": {
            "image/png": "[encoded data removed]",
            "text/plain": [
              "<Figure size 432x288 with 1 Axes>"
            ]
          },
          "metadata": {
            "tags": []
          }
        }
      ]
    },
    {
      "cell_type": "markdown",
      "metadata": {
        "id": "hOIpFrhSalNr",
        "colab_type": "text"
      },
      "source": [
        "#### Observation Regarding Distances\n",
        "\n",
        "Does something seem odd? Some of the distances between start and end points seem to be 0. This should be the cases where people leaving the bikes to the same station where they rent them. \n",
        "\n",
        "To make sure, \n",
        "1. Please find those cases by showing the total counts of rows where the starting and ending stations are same.\n",
        "2. Plot those cases against rentals do not start and end in same stations in a bar chart.\n",
        "\n",
        "*(You can also utilize the id of these bike rental stations.)*"
      ]
    },
    {
      "cell_type": "code",
      "metadata": {
        "id": "4YrvBky-S7hd",
        "colab_type": "code",
        "outputId": "db82d2a8-caf8-406a-87b3-e5c8d91eb176",
        "colab": {
          "base_uri": "https://localhost:8080/",
          "height": 283
        }
      },
      "source": [
        "# your code\n",
        "df[\"distance\"].plot(kind = \"hist\", bins = 34, rwidth = 0.7)"
      ],
      "execution_count": 0,
      "outputs": [
        {
          "output_type": "execute_result",
          "data": {
            "text/plain": [
              "<matplotlib.axes._subplots.AxesSubplot at 0x7f401e606780>"
            ]
          },
          "metadata": {
            "tags": []
          },
          "execution_count": 63
        },
        {
          "output_type": "display_data",
          "data": {
            "image/png": "[encoded data removed]",
            "text/plain": [
              "<Figure size 432x288 with 1 Axes>"
            ]
          },
          "metadata": {
            "tags": []
          }
        }
      ]
    },
    {
      "cell_type": "markdown",
      "metadata": {
        "id": "YSVZcedYYGSp",
        "colab_type": "text"
      },
      "source": [
        "#### Rentals in Weekdays vs. Weekends\n",
        "\n",
        "Since we have the date information for the bike rentals, by utilizing the functionality of the `datetime` library we can obtain the day information from the `starttime` and `stoptime`.\n",
        "\n",
        "Now, your tasks are following:\n",
        "  \n",
        "  - Extract the day of week (Monday, Tuesday, etc.) information from `starttime` column and create a new column in the dataframe called `day`\n",
        "  - Using this column, create a new column called `time_of_week`, which shows if the `day` value is in weekdays are in weekend days.\n",
        "  - Create another column named `hour` by extracting the hour attribute from start time. \n",
        "  - Then, with these columns, show the average bike rental amounts per hour for weekdays and weekends in the same figure with line charts.\n",
        "\n",
        "Please check the documentation of the [date objects](https://docs.python.org/3/library/datetime.html#datetime.date) in the datetime library from the link provided."
      ]
    },
    {
      "cell_type": "code",
      "metadata": {
        "id": "dZHL_bfOWZJD",
        "colab_type": "code",
        "outputId": "69199576-0653-4256-d2de-5183ba8e0786",
        "colab": {
          "base_uri": "https://localhost:8080/",
          "height": 333
        }
      },
      "source": [
        "# your code\n",
        "from datetime import date\n",
        "df[\"day\"]=df['starttime'].apply(lambda x:x.date().strftime('%A'))\n",
        "def weekcheck(x):\n",
        "  if x<5:\n",
        "    return \"Weekday\"\n",
        "  else:\n",
        "    return \"Weekend\"\n",
        "\n",
        "df[\"time_of_week\"]=df[\"starttime\"].dt.weekday.apply(weekcheck)\n",
        "df[\"hour\"]=df[\"starttime\"].dt.hour\n",
        "\n",
        "fig, axes = plt.subplots(1,1, figsize=(20,5))\n",
        "df1=df[df['time_of_week']==\"Weekday\"]\n",
        "df2=df[df['time_of_week']==\"Weekend\"]\n",
        "ax = df1.groupby(['hour']).size().plot(ax=axes, marker=\"o\",color=\"r\")\n",
        "ax1 = df2.groupby(['hour']).size().plot(ax=axes, marker=\"o\",color=\"c\")\n",
        "ax.set_xticks(np.arange(0, 23, 1, dtype='int64'))\n",
        "ax.set_xlim(np.array([0, 23], dtype='int64'))\n",
        "ax.grid()\n",
        "ax.legend(['Weekday','Weekend'])\n",
        "plt.show()"
      ],
      "execution_count": 0,
      "outputs": [
        {
          "output_type": "display_data",
          "data": {
            "image/png": "[encoded data removed]",
            "text/plain": [
              "<Figure size 1440x360 with 1 Axes>"
            ]
          },
          "metadata": {
            "tags": []
          }
        }
      ]
    },
    {
      "cell_type": "markdown",
      "metadata": {
        "id": "2CzRCPe9a8ZQ",
        "colab_type": "text"
      },
      "source": [
        "#### Age Distributions by Gender\n",
        "\n",
        "In our original data, gender information was mapped as follows:\n",
        "\n",
        "    - 0: unknown\n",
        "    - 1: male\n",
        "    - 2: female\n",
        "\n",
        "Use this information to display the age distributions of male and female bike users in different graphs. To do that, please use **matplotlib**'s `subplots` option to create 2 graphs located in the same row."
      ]
    },
    {
      "cell_type": "code",
      "metadata": {
        "id": "O0EufkDDrTkN",
        "colab_type": "code",
        "outputId": "9fded1f4-705b-4731-fa6f-01a5a6d5284b",
        "colab": {
          "base_uri": "https://localhost:8080/",
          "height": 297
        }
      },
      "source": [
        "# your code\n",
        "x = df[df[\"gender\"] == 1]\n",
        "\n",
        "y = df[df[\"gender\"] == 2]\n",
        "\n",
        "plt.subplot(1,3,1)\n",
        "plt.title('male')\n",
        "y[\"age\"].plot(kind=\"hist\", bins=15, rwidth=0.7, color = \"r\")\n",
        "\n",
        "plt.subplot(1,3,3)\n",
        "plt.title('female')\n",
        "x[\"age\"].plot(kind=\"hist\", bins=15, rwidth=0.7)"
      ],
      "execution_count": 0,
      "outputs": [
        {
          "output_type": "execute_result",
          "data": {
            "text/plain": [
              "<matplotlib.axes._subplots.AxesSubplot at 0x7f401e425198>"
            ]
          },
          "metadata": {
            "tags": []
          },
          "execution_count": 64
        },
        {
          "output_type": "display_data",
          "data": {
            "image/png": "[encoded data removed]",
            "text/plain": [
              "<Figure size 432x288 with 2 Axes>"
            ]
          },
          "metadata": {
            "tags": []
          }
        }
      ]
    },
    {
      "cell_type": "markdown",
      "metadata": {
        "id": "5RdDNMJsYeYu",
        "colab_type": "text"
      },
      "source": [
        "#### Usage by Age Groups\n",
        "\n",
        "Write a function that will display the usage of bike rental system by different age groups in a pie chart *for a given time interval*. For this taks, the first step is provided for you, please complete the implementation of the function named `age_groups_in_time_intervals`. The function will take two datetime parameters for `starttime` values and will show age group ratios in pie chart."
      ]
    },
    {
      "cell_type": "code",
      "metadata": {
        "id": "yEVUCvCvnIPf",
        "colab_type": "code",
        "colab": {}
      },
      "source": [
        "# your code\n",
        "def age_groups_in_time_intervals(time1, time2):\n",
        "  # TO-DO: complete the implementation\n",
        "\n",
        "\n",
        "  # Title for the pie chart is given below,\n",
        "  # you do not need to edit it.\n",
        "  plt.title('Ratios of usage by Age Groups between ' + time1  + ' and ' + time2)\n",
        "  # At the end, plt.show() will be called\n",
        "  plt.show()"
      ],
      "execution_count": 0,
      "outputs": []
    },
    {
      "cell_type": "markdown",
      "metadata": {
        "id": "urNoPx4haEWo",
        "colab_type": "text"
      },
      "source": [
        "#### Age Groups vs Distance \n",
        "\n",
        "Similar to the task above, we can also investigate the variance of distance between age groups. Plot histograms of distances in each age group in a juxtaposed 1x3 layout."
      ]
    },
    {
      "cell_type": "code",
      "metadata": {
        "id": "_KDsclcW6PTP",
        "colab_type": "code",
        "outputId": "7cbf4723-65e7-4eda-b1b4-7be5b2b074c1",
        "colab": {
          "base_uri": "https://localhost:8080/",
          "height": 281
        }
      },
      "source": [
        "# your code\n",
        "def distance_count(df):\n",
        "    return df.query('distance == \"0\"').distance.count()\n",
        "objects = ('Zero', 'Non-Zero',)\n",
        "ypos = [0,0.5]\n",
        "occurence = [distance_count(df),df.shape[0]+1]\n",
        "plt.bar(ypos, occurence,align='center',width=0.4)\n",
        "\n",
        "plt.xticks(ypos, objects)\n",
        "plt.ylabel('Occurences')\n",
        "plt.title('Distance')\n",
        "plt.show()"
      ],
      "execution_count": 0,
      "outputs": [
        {
          "output_type": "display_data",
          "data": {
            "image/png": "[encoded data removed]",
            "text/plain": [
              "<Figure size 432x288 with 1 Axes>"
            ]
          },
          "metadata": {
            "tags": []
          }
        }
      ]
    },
    {
      "cell_type": "markdown",
      "metadata": {
        "id": "aRTaBWaeXm-q",
        "colab_type": "text"
      },
      "source": [
        "## Spatial Visualizations\n",
        "\n",
        "In this section, you are going to utilize the latitude and longitude values associated with bike rentals and visualize them on a real-world map. "
      ]
    },
    {
      "cell_type": "markdown",
      "metadata": {
        "id": "mGT1evvBXqao",
        "colab_type": "text"
      },
      "source": [
        "#### Bike Stations in NYC\n",
        "\n",
        "From all locations (latitude, longitude pairs) in start and end stations, extract the unique ones and display them as circle markers on the map."
      ]
    },
    {
      "cell_type": "code",
      "metadata": {
        "id": "c6D7ljoJu1_W",
        "colab_type": "code",
        "colab": {}
      },
      "source": [
        "# your solution"
      ],
      "execution_count": 0,
      "outputs": []
    },
    {
      "cell_type": "markdown",
      "metadata": {
        "id": "WwfzI3tkcKh4",
        "colab_type": "text"
      },
      "source": [
        "#### Heatmap of Rentals\n",
        "\n",
        "Extract the latitude and longitude values of rental start locations and display their heatmap. \n",
        "\n",
        "In order to generate a heatmap, you may use the link below.\n",
        "\n",
        "https://python-visualization.github.io/folium/plugins.html#folium.plugins.HeatMap"
      ]
    },
    {
      "cell_type": "code",
      "metadata": {
        "id": "Yi7aXHE1cMLy",
        "colab_type": "code",
        "colab": {
          "base_uri": "https://localhost:8080/",
          "height": 843
        },
        "outputId": "7c2424c4-ea78-43dc-9e54-179d79a4f9f2"
      },
      "source": [
        "# your code\n",
        "import folium \n",
        "def create(default_location=[45, -75], default_zoom_start = 13):\n",
        "  mapx = folium.Map(location = default_location, control_scale = True, zoom_start = default_zoom_start)\n",
        "  return mapx\n",
        "\n",
        "mapx = create()\n",
        "mapx"
      ],
      "execution_count": 19,
      "outputs": [
        {
          "output_type": "execute_result",
          "data": {
            "text/html": [
              "<div style=\"width:100%;\"><div style=\"position:relative;width:100%;height:0;padding-bottom:60%;\"><iframe src=\"data:text/html;charset=utf-8;base64,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\" style=\"position:absolute;width:100%;height:100%;left:0;top:0;border:none !important;\" allowfullscreen webkitallowfullscreen mozallowfullscreen></iframe></div></div>"
            ],
            "text/plain": [
              "<folium.folium.Map at 0x7fb399f24048>"
            ]
          },
          "metadata": {
            "tags": []
          },
          "execution_count": 19
        }
      ]
    }
  ]
}