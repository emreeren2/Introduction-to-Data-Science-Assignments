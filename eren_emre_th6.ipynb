{
  "nbformat": 4,
  "nbformat_minor": 0,
  "metadata": {
    "colab": {
      "name": "Take-Home Exam 6: General Review.ipynb",
      "provenance": [],
      "collapsed_sections": [],
      "toc_visible": true
    },
    "kernelspec": {
      "name": "python3",
      "display_name": "Python 3"
    }
  },
  "cells": [
    {
      "cell_type": "markdown",
      "metadata": {
        "id": "gzA5v_dYmrKa",
        "colab_type": "text"
      },
      "source": [
        "# Take-Home Exam 6: General Review\n",
        "\n",
        "*In this take-home exam, you are going to solve questions regarding machine learning concepts.*\n",
        "\n",
        "**Submission Instructions**\n",
        "\n",
        "---\n",
        "Copy this assignment to your Drive. <font color = 'red'> `File` --> `Save a copy in Drive`</font>. Rename it as <font color = 'green'>`Lastname_Firstname_th6`</font>.\n",
        "\n",
        "Write your solutions in the cells  marked <font color = 'green'>`# your code`</font>.\n",
        "\n",
        "When you're done please submit your solutions as an <font color=\"red\">`.ipynb`</font> file. To do so:\n",
        "\n",
        "\n",
        "1.  Click on <font color=\"red\">`File`</font>  at the top left on the Colab screen, then click on <font color = 'red'>`Download .ipynb`</font>.\n",
        "2.   Then submit the <font color=\"red\">`.ipynb`</font> version of your work on SUCourse.\n",
        "\n",
        "\n",
        "For any question, you may send an email to the TAs and LAs.\n",
        "\n",
        "---"
      ]
    },
    {
      "cell_type": "markdown",
      "metadata": {
        "id": "3PPXszHTQ306",
        "colab_type": "text"
      },
      "source": [
        "**IMPORTANT**\n",
        "\n",
        "In order to complete the true/false and multi-choice questions, please use markdown utilities. For instance, below you have a set of options \n",
        "\n",
        "- [ ] option A\n",
        "- [x] option B\n",
        "- [ ] option C\n",
        "\n",
        "If you **double click** on this cell, you will see that a ticked option is represented with \\[x\\] statement. Please utilize the same selection mechanism in the questions below."
      ]
    },
    {
      "cell_type": "markdown",
      "metadata": {
        "id": "HkpA2ho_LNxB",
        "colab_type": "text"
      },
      "source": [
        "## ML Concepts"
      ]
    },
    {
      "cell_type": "markdown",
      "metadata": {
        "id": "KFXTYe2DL7KI",
        "colab_type": "text"
      },
      "source": [
        "### Q1\n",
        "\n",
        "What is the difference between classification and regression? Assume that you are performing price prediction. Which is the appropriate method? Explain your reasoning.\n",
        "\n",
        "* Regression model, is process of finding a model that predicts a continuous value based on its input variables.\n",
        "* On the other hand, calassification model, is a process of finding a model that separates input data into multiple calsses or labels.\n",
        "\n",
        "I think both of the options are reasonable (we can group price ranges as expensive, cheap etc. with this we can also use classification), **but i think true answer is regression model.** Because we want to find numerical value in price prediction. \n"
      ]
    },
    {
      "cell_type": "markdown",
      "metadata": {
        "id": "j4etmk03T6Z1",
        "colab_type": "text"
      },
      "source": [
        "### Q2\n",
        "\n",
        "What is overfitting? Explain in terms of its relationship with model complexity and its implications.\n",
        "\n",
        "* In overfitting, accuracy of the model is found as unreasonable high. Because, since we divide the dataset randomly, there exists possibility to obtain overfitting. One option to overcome this is using cross validation. When complexity is high, overfitting can occure more probably.\n",
        "___\n",
        "* i found better explanation of overfitting in (https://statisticsbyjim.com/regression/overfitting-regression-models/) because i connat explain as good as the following; \"Overfitting a model is a condition where a statistical model begins to describe the random error in the data rather than the relationships between variables.\" "
      ]
    },
    {
      "cell_type": "markdown",
      "metadata": {
        "id": "f6kMHqNwHRiu",
        "colab_type": "text"
      },
      "source": [
        "### Q3\n",
        "\n",
        "Why do we need cross-validation? \n",
        "\n",
        "As we see an example in project_2, **cross-validation is used for deal with randomly splitted data**(also, can be deal with overfitting). If we do not use cross-validation, we can get unreliable accuracy scores. For example in project_2, researchers obtain %72 accuracy, however another research team, that replicated original study, obtain much lower accuracy. As a sum of these, ***with this method, we can deal with randomly splitted data and we can achieve more reliable results.***"
      ]
    },
    {
      "cell_type": "markdown",
      "metadata": {
        "id": "tkaD4GWbAF0H",
        "colab_type": "text"
      },
      "source": [
        "## kNN"
      ]
    },
    {
      "cell_type": "markdown",
      "metadata": {
        "id": "MQayVyetNhxq",
        "colab_type": "text"
      },
      "source": [
        "### Q1\n",
        "\n",
        "A kNN model with k set to 1 would obtain 100% accuracy result on the train data.\n",
        "\n",
        "- [x] True\n",
        "- [ ] False"
      ]
    },
    {
      "cell_type": "markdown",
      "metadata": {
        "id": "RX8an6jJOlZJ",
        "colab_type": "text"
      },
      "source": [
        "### Q2\n",
        "\n",
        "Given a training dataset with 100 observations, we built a kNN model with k set to 100. In the training data, 30% of the observations are of class `A`, 10% are of class `B` and the remaining 60% are of class `C`. \n",
        "\n",
        "Now, we have a test dataset in which 5% are of class `A`, 55% are of class `B` and remaining 40% are of class `C`. If we deploy the trained model to predict the test dataset, what would be the resulting accuracy score?\n",
        "\n",
        "- [ ] 50%\n",
        "- [ ] 40%\n",
        "- [x] 55%"
      ]
    },
    {
      "cell_type": "markdown",
      "metadata": {
        "id": "YsTpi3s9AHqR",
        "colab_type": "text"
      },
      "source": [
        "## Decision Trees"
      ]
    },
    {
      "cell_type": "markdown",
      "metadata": {
        "id": "jBcChfpoVuhj",
        "colab_type": "text"
      },
      "source": [
        "### Q1\n",
        "\n",
        "Suppose we have the training data below, where A, B and C are binary attributes and y is the target attribute.\n",
        "\n",
        "|A|B|C|y|\n",
        "|:---:|:---:|:---:|:---:|\n",
        "|0|1|0|yes|\n",
        "|1|0|1|yes|\n",
        "|0|0|0|no|\n",
        "|1|0|1|no|\n",
        "|0|1|1|no|\n",
        "|1|1|0|yes|\n",
        "\n",
        "Assume we have a decision tree model trained with this model. Is it possible for this model to obtain 100% accuracy score on the training data? Explain your reasoning.\n",
        "\n",
        "I think it is not possible because, there exists contradictory rows."
      ]
    },
    {
      "cell_type": "markdown",
      "metadata": {
        "id": "_VhPe7Iwczb8",
        "colab_type": "text"
      },
      "source": [
        "### Q2\n",
        "\n",
        "Suppose we have the training data below, where A, B and C are binary attributes and y is the target attribute.\n",
        "\n",
        "|A|B|C|y|\n",
        "|:---:|:---:|:---:|:---:|\n",
        "|0|1|0|yes|\n",
        "|1|0|1|yes|\n",
        "|0|0|0|no|\n",
        "|1|0|1|no|\n",
        "|0|1|1|no|\n",
        "|1|1|0|yes|\n",
        "|0|1|1|yes|\n",
        "\n",
        "Which attribute above would yield the highest information gain for the root node in the decision tree?\n",
        "\n",
        "- [ ] A\n",
        "- [x] B\n",
        "- [ ] C"
      ]
    },
    {
      "cell_type": "markdown",
      "metadata": {
        "id": "qrUqwwp1Qn6u",
        "colab_type": "text"
      },
      "source": [
        "### Q3\n",
        "\n",
        "A decision tree algorithm iteratively evaluates available features in the data to create the branches. What would be the effect of adding a new feature to the dataset on the predictive performance of a model?\n",
        "\n",
        "- [ ] Increases the performance\n",
        "- [ ] Decreases the performance\n",
        "- [x] There is no enough information"
      ]
    },
    {
      "cell_type": "markdown",
      "metadata": {
        "id": "2GVphvifLSGq",
        "colab_type": "text"
      },
      "source": [
        "## Naive Bayes"
      ]
    },
    {
      "cell_type": "markdown",
      "metadata": {
        "id": "y6oUnpswLToT",
        "colab_type": "text"
      },
      "source": [
        "### Q1\n",
        "\n",
        "Why is Naive Bayes algorithm considered as `naive`? Explain briefly and discuss its implications in terms of its effect on the computation.\n",
        "\n",
        "* \"Naive Bayes is ‘naive’ because it makes the assumption that features of a measurement are independent of each other\". \n",
        "* As i understand in the second part of the question, it is asked to computational complexity. If so, answer should be O(nK), where n is the number of features and K is the number of label classes."
      ]
    },
    {
      "cell_type": "markdown",
      "metadata": {
        "id": "PyloVcBXW9o4",
        "colab_type": "text"
      },
      "source": [
        "### Q2\n",
        "\n",
        "Suppose that we have the data below, where `Stolen` is the  target attribute that consists of binary values (yes or no).\n",
        "\n",
        "|Color|Type|Origin|Stolen|\n",
        "|:---:|:---:|:---:|:---:|\n",
        "|red|sports|domestic|yes|\n",
        "|red|sports|domestic|no|\n",
        "|red|sports|domestic|yes|\n",
        "|yellow|sports|domestic|no|\n",
        "|yellow|sports|imported|yes|\n",
        "|yellow|suv|imported|no|\n",
        "|yellow|suv|imported|yes|\n",
        "|yellow|suv|domestic|no|\n",
        "|red|suv|imported|no|\n",
        "|red|sports|imported|yes|\n",
        "\n",
        "You have a naive bayes model and a new test instance with attributes `color=red`, `type=suv` and `origin=imported`. What would be the predicted label by the naive bayes model for the given test instance? *Write down your calculations step by step.*\n",
        "\n",
        "There is no need to use latex in this question. You may show your calculations as P(stolen=yes|color=red....) = (...)/(...) etc.\n",
        "\n",
        "___\n",
        "\n",
        "\n",
        "1. P(stolen=yes|color=red, type=suv, origin=imported) = P(color=red|stolen=yes)* P(type=suv|stolen=yes)* P(origin=imported|stolen=yes)* P(stolen=yes)\n",
        "  * P(color=red|stolen=yes) = __3/5__\n",
        "  * P(type=red|stolen=yes) = __1/5__\n",
        "  * P(origin=imported|stolen=yes) =  __3/5__\n",
        "  * P(stolen=yes) = 5/10 = __1/2__\n",
        "\n",
        "*According to our calculation, answer is;*\n",
        "* 3/5*1/5*3/5*1/2 = 9/250 ==> __0.036__\n",
        "\n",
        "\n",
        "---\n",
        "\n",
        "\n",
        "2.  P(stolen=no|color=red, type=suv, origin=imported) = P(color=red|stolen=no)* P(type=suv|stolen=no)* P(origin=imported|stolen=no)* P(stolen=no)\n",
        "  * P(color=red|stolen=no) = __2/5__\n",
        "  * P(type=red|stolen=no) = __3/5__\n",
        "  * P(origin=imported|stolen=no) =  __2/5__\n",
        "  * P(stolen=no) = 5/10 = __1/2__\n",
        "\n",
        "*According to our calculation, answer is;*\n",
        "* 2/5*3/5*2/5*1/2 = 12/250 ==> __0.048__"
      ]
    }
  ]
}
